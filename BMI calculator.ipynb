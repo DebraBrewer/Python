{
 "cells": [
  {
   "cell_type": "markdown",
   "id": "5d3cbbbf",
   "metadata": {},
   "source": [
    "# BMI Calculator"
   ]
  },
  {
   "cell_type": "code",
   "execution_count": 35,
   "id": "a2de2868",
   "metadata": {},
   "outputs": [
    {
     "name": "stdout",
     "output_type": "stream",
     "text": [
      "BMI calculator\n",
      "Enter your weight in pounds: 120\n",
      "Enter your height in feet and inches: \n",
      "Feet: 5\n",
      "Inches: 4\n",
      "Your BMI is: 20.6\n",
      "Result: Normal weight\n"
     ]
    }
   ],
   "source": [
    "print(\"BMI calculator\")\n",
    "weight = int(input(\"Enter your weight in pounds: \"))\n",
    "print(\"Enter your height in feet and inches: \")\n",
    "height_feet = int(input(\"Feet: \"))\n",
    "\n",
    "height_inches = int(input(\"Inches: \"))\n",
    "\n",
    "height = int(height_feet*12+height_inches)\n",
    "BMI = round((weight*703)/(height*height),1)\n",
    "print(\"Your BMI is: \"+str(BMI))\n",
    "\n",
    "if (BMI < 0):\n",
    "    print(\"You must give positive number values for your weight and height.  Please try again.\")\n",
    "else:\n",
    "    if (BMI < 18.5):\n",
    "        print(\"Result: Underweight\")\n",
    "    elif (BMI < 24.9):\n",
    "        print(\"Result: Normal weight\")\n",
    "    elif (BMI < 29.9):\n",
    "        print(\"Result: Overweight\")\n",
    "    elif (BMI < 34.9):\n",
    "        print(\"Result: Obese\")\n",
    "    elif (BMI < 39.9):\n",
    "        print(\"Result: Severely obese\")\n",
    "    elif (BMI < 120):\n",
    "        print(\"Result: Morbidly obese\")\n",
    "    else:\n",
    "        print(\"You have an error in your numbers. Please try again.\")"
   ]
  }
 ],
 "metadata": {
  "kernelspec": {
   "display_name": "Python 3 (ipykernel)",
   "language": "python",
   "name": "python3"
  },
  "language_info": {
   "codemirror_mode": {
    "name": "ipython",
    "version": 3
   },
   "file_extension": ".py",
   "mimetype": "text/x-python",
   "name": "python",
   "nbconvert_exporter": "python",
   "pygments_lexer": "ipython3",
   "version": "3.11.7"
  }
 },
 "nbformat": 4,
 "nbformat_minor": 5
}
